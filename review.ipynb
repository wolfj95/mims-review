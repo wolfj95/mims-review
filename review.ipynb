{
 "cells": [
  {
   "cell_type": "markdown",
   "id": "51a58cb7",
   "metadata": {},
   "source": [
    "# Course Review\n",
    "Here's what we've done over the past 2 weeks!"
   ]
  },
  {
   "cell_type": "markdown",
   "id": "619fa10f",
   "metadata": {},
   "source": [
    "## Running python code and variables"
   ]
  },
  {
   "cell_type": "code",
   "execution_count": 62,
   "id": "309ad988",
   "metadata": {},
   "outputs": [],
   "source": [
    "from turtle import forward, right"
   ]
  },
  {
   "cell_type": "code",
   "execution_count": 63,
   "id": "223464c7",
   "metadata": {},
   "outputs": [
    {
     "name": "stdout",
     "output_type": "stream",
     "text": [
      "How big? 100\n"
     ]
    }
   ],
   "source": [
    "size = int(input(\"How big? \"))\n",
    "\n",
    "forward(size)\n",
    "right(90)\n",
    "forward(size)\n",
    "right(90)\n",
    "forward(size)\n",
    "right(90)\n",
    "forward(size)\n",
    "right(90)"
   ]
  },
  {
   "cell_type": "markdown",
   "id": "160602bf",
   "metadata": {},
   "source": [
    "## Loops"
   ]
  },
  {
   "cell_type": "code",
   "execution_count": 64,
   "id": "a1922174",
   "metadata": {},
   "outputs": [],
   "source": [
    "from turtle import forward, right, left, reset, speed, penup, pendown, setheading, goto"
   ]
  },
  {
   "cell_type": "code",
   "execution_count": 66,
   "id": "abf307fb",
   "metadata": {},
   "outputs": [
    {
     "name": "stdout",
     "output_type": "stream",
     "text": [
      "How big? 100\n"
     ]
    }
   ],
   "source": [
    "reset()\n",
    "size = int(input(\"How big? \"))\n",
    "\n",
    "for i in range(4):\n",
    "    forward(size)\n",
    "    right(90)"
   ]
  },
  {
   "cell_type": "code",
   "execution_count": 67,
   "id": "d57037fd",
   "metadata": {},
   "outputs": [
    {
     "name": "stdout",
     "output_type": "stream",
     "text": [
      "How many terms of the fibonacci sequence should I display? 16\n",
      "0\n",
      "1\n",
      "1\n",
      "2\n",
      "3\n",
      "5\n",
      "8\n",
      "13\n",
      "21\n",
      "34\n",
      "55\n",
      "89\n",
      "144\n",
      "233\n",
      "377\n",
      "610\n"
     ]
    }
   ],
   "source": [
    "num_terms = int(input(\"How many terms of the fibonacci sequence should I display? \"))\n",
    "prev = 0\n",
    "print(prev)\n",
    "curr = 1\n",
    "print(curr)\n",
    "for i in range(num_terms-2):\n",
    "    next = curr+prev\n",
    "    print(next)\n",
    "    prev = curr\n",
    "    curr = next"
   ]
  },
  {
   "cell_type": "code",
   "execution_count": 68,
   "id": "040a6798",
   "metadata": {},
   "outputs": [
    {
     "name": "stdout",
     "output_type": "stream",
     "text": [
      "How many terms of the fibonacci sequence should I use to draw the spirals 15\n"
     ]
    }
   ],
   "source": [
    "# Your code here\n",
    "reset()\n",
    "speed(0)\n",
    "num_terms = int(input(\"How many terms of the fibonacci sequence should I use to draw the spirals \"))\n",
    "num_spirals = 8\n",
    "\n",
    "angle = 360/num_spirals\n",
    "for i in range(int(num_spirals)):\n",
    "    penup()\n",
    "    goto(0,0)\n",
    "    setheading(i*angle)\n",
    "    pendown()\n",
    "    prev = 0\n",
    "    forward(prev)\n",
    "    right(angle)\n",
    "    curr = 1\n",
    "    forward(curr)\n",
    "    right(angle)\n",
    "    for i in range(num_terms-2):\n",
    "        next = curr+prev\n",
    "        forward(next)\n",
    "        right(angle)\n",
    "        prev = curr\n",
    "        curr = next\n",
    "\n",
    "num_spirals = 5\n",
    "angle = 360/num_spirals\n",
    "for i in range(int(num_spirals)):\n",
    "    penup()\n",
    "    goto(0,0)\n",
    "    setheading(i*angle)\n",
    "    pendown()\n",
    "    prev = 0\n",
    "    forward(prev)\n",
    "    left(angle)\n",
    "    curr = 1\n",
    "    forward(curr)\n",
    "    left(angle)\n",
    "    for i in range(num_terms-2):\n",
    "        next = curr+prev\n",
    "        forward(next)\n",
    "        left(angle)\n",
    "        prev = curr\n",
    "        curr = next"
   ]
  },
  {
   "cell_type": "markdown",
   "id": "1d3c1f27",
   "metadata": {},
   "source": [
    "## Conditionals"
   ]
  },
  {
   "cell_type": "code",
   "execution_count": 22,
   "id": "b3ecd22c",
   "metadata": {},
   "outputs": [],
   "source": [
    "from turtle import forward, right, left, reset, speed, penup, pendown, setheading, goto, color, begin_fill, end_fill"
   ]
  },
  {
   "cell_type": "code",
   "execution_count": 69,
   "id": "df750181",
   "metadata": {},
   "outputs": [
    {
     "name": "stdout",
     "output_type": "stream",
     "text": [
      "What would you like me to draw? triangle\n",
      "How big should I draw it? 120\n",
      "What would you like me to draw? star\n",
      "How big should I draw it? 50\n",
      "What would you like me to draw? quit\n",
      "How big should I draw it? 3\n"
     ]
    }
   ],
   "source": [
    "# Edit code in this cell\n",
    "reset()\n",
    "\n",
    "speed(0)\n",
    "while True:\n",
    "    drawing = input(\"What would you like me to draw? \")\n",
    "    size = int(input(\"How big should I draw it? \"))\n",
    "    if drawing == \"square\":\n",
    "        for i in range(4):\n",
    "            forward(size)\n",
    "            right(90)\n",
    "    elif drawing == \"triangle\":\n",
    "        for i in range(3):\n",
    "            forward(size)\n",
    "            right(120)\n",
    "    elif drawing == \"star\":\n",
    "        for i in range(5):\n",
    "            forward(size)\n",
    "            right(180-360/10)\n",
    "    elif drawing == \"quit\":\n",
    "        break\n",
    "    else:\n",
    "        print(\"Sorry, I don't know how to draw that...\")"
   ]
  },
  {
   "cell_type": "code",
   "execution_count": 70,
   "id": "267bdbe4",
   "metadata": {},
   "outputs": [],
   "source": [
    "# Your code here\n",
    "reset()\n",
    "speed(0)\n",
    "\n",
    "for i in range(20):\n",
    "    if i%7 == 0:\n",
    "        color(\"red\")\n",
    "    elif i%7 == 1:\n",
    "        color(\"orange\")\n",
    "    elif i%7 == 2:\n",
    "        color(\"yellow\")\n",
    "    elif i%7 == 3:\n",
    "        color(\"green\")\n",
    "    elif i%7 == 4:\n",
    "        color(\"blue\")\n",
    "    elif i%7 == 5:\n",
    "        color(\"purple\")\n",
    "    else:\n",
    "        color(\"violet\")\n",
    "    begin_fill()\n",
    "    for j in range(4):\n",
    "        forward(100)\n",
    "        right(90)\n",
    "    end_fill()\n",
    "    penup()\n",
    "    right(45)\n",
    "    forward(10)\n",
    "    left(45)\n",
    "    pendown()"
   ]
  },
  {
   "cell_type": "code",
   "execution_count": 71,
   "id": "6306699a",
   "metadata": {},
   "outputs": [
    {
     "name": "stdout",
     "output_type": "stream",
     "text": [
      "What number should I calculate the hailstone sequence of? 27\n",
      "27\n",
      "82\n",
      "41.0\n",
      "124.0\n",
      "62.0\n",
      "31.0\n",
      "94.0\n",
      "47.0\n",
      "142.0\n",
      "71.0\n",
      "214.0\n",
      "107.0\n",
      "322.0\n",
      "161.0\n",
      "484.0\n",
      "242.0\n",
      "121.0\n",
      "364.0\n",
      "182.0\n",
      "91.0\n",
      "274.0\n",
      "137.0\n",
      "412.0\n",
      "206.0\n",
      "103.0\n",
      "310.0\n",
      "155.0\n",
      "466.0\n",
      "233.0\n",
      "700.0\n",
      "350.0\n",
      "175.0\n",
      "526.0\n",
      "263.0\n",
      "790.0\n",
      "395.0\n",
      "1186.0\n",
      "593.0\n",
      "1780.0\n",
      "890.0\n",
      "445.0\n",
      "1336.0\n",
      "668.0\n",
      "334.0\n",
      "167.0\n",
      "502.0\n",
      "251.0\n",
      "754.0\n",
      "377.0\n",
      "1132.0\n",
      "566.0\n",
      "283.0\n",
      "850.0\n",
      "425.0\n",
      "1276.0\n",
      "638.0\n",
      "319.0\n",
      "958.0\n",
      "479.0\n",
      "1438.0\n",
      "719.0\n",
      "2158.0\n",
      "1079.0\n",
      "3238.0\n",
      "1619.0\n",
      "4858.0\n",
      "2429.0\n",
      "7288.0\n",
      "3644.0\n",
      "1822.0\n",
      "911.0\n",
      "2734.0\n",
      "1367.0\n",
      "4102.0\n",
      "2051.0\n",
      "6154.0\n",
      "3077.0\n",
      "9232.0\n",
      "4616.0\n",
      "2308.0\n",
      "1154.0\n",
      "577.0\n",
      "1732.0\n",
      "866.0\n",
      "433.0\n",
      "1300.0\n",
      "650.0\n",
      "325.0\n",
      "976.0\n",
      "488.0\n",
      "244.0\n",
      "122.0\n",
      "61.0\n",
      "184.0\n",
      "92.0\n",
      "46.0\n",
      "23.0\n",
      "70.0\n",
      "35.0\n",
      "106.0\n",
      "53.0\n",
      "160.0\n",
      "80.0\n",
      "40.0\n",
      "20.0\n",
      "10.0\n",
      "5.0\n",
      "16.0\n",
      "8.0\n",
      "4.0\n",
      "2.0\n",
      "Took 111 steps to reach 1.\n"
     ]
    }
   ],
   "source": [
    "num = int(input(\"What number should I calculate the hailstone sequence of? \"))\n",
    "count = 0\n",
    "\n",
    "while num != 1:\n",
    "    print(num)\n",
    "    #even case\n",
    "    if num%2 == 0:\n",
    "        num = num/2\n",
    "    else:\n",
    "        num = num*3+1\n",
    "    count += 1\n",
    "\n",
    "print(\"Took \" + str(count) + \" steps to reach 1.\")"
   ]
  },
  {
   "cell_type": "markdown",
   "id": "0376eda9",
   "metadata": {},
   "source": [
    "## Functions"
   ]
  },
  {
   "cell_type": "code",
   "execution_count": 35,
   "id": "65468f19",
   "metadata": {},
   "outputs": [],
   "source": [
    "from turtle import forward, right, left, reset, speed, penup, pendown, setheading, goto, color, begin_fill, end_fill, showturtle, hideturtle, fillcolor, circle"
   ]
  },
  {
   "cell_type": "code",
   "execution_count": 73,
   "id": "949c795a",
   "metadata": {},
   "outputs": [
    {
     "name": "stdout",
     "output_type": "stream",
     "text": [
      "How many sides? 12\n",
      "How big? 100\n"
     ]
    }
   ],
   "source": [
    "def ngon(num_sides, side_length):\n",
    "    \"\"\"This functions draw a regular\n",
    "    polygon with num_sides sides of length\n",
    "    side_length\"\"\"\n",
    "    #YOUR CODE GOES HERE\n",
    "    for i in range(num_sides):\n",
    "        forward(side_length)\n",
    "        right(360/num_sides)\n",
    "\n",
    "        \n",
    "reset()\n",
    "speed(0)\n",
    "num_sides = int(input(\"How many sides? \"))\n",
    "side_length = int(input(\"How big? \"))\n",
    "\n",
    "ngon(num_sides, side_length)"
   ]
  },
  {
   "cell_type": "code",
   "execution_count": 74,
   "id": "9d978b44",
   "metadata": {},
   "outputs": [],
   "source": [
    "def setup(x, y):\n",
    "    '''Sets up the turtle, ready to draw, \n",
    "    at the given coordinates'''\n",
    "    penup()\n",
    "    goto(x, y)\n",
    "    pendown()\n",
    "    setheading(0)\n",
    "    \n",
    "def square(side_length):\n",
    "    '''Draws a square using `side_length` as the length'''\n",
    "    #YOUR CODE GOES HERE\n",
    "    for i in range(4):\n",
    "        forward(side_length)\n",
    "        right(90)\n",
    "\n",
    "\n",
    "def draw_grid(square_size,gap):\n",
    "    '''\n",
    "    - Draw a grid of squares using nested for loops.\n",
    "    - Use the function `setup()` to move the turtle.\n",
    "    - `square_size` should set the size of the square\n",
    "    - `gap` should adjust the size of the gap inbetween the squares in the grid \n",
    "    '''\n",
    "    #YOUR CODE GOES HERE\n",
    "    for i in range(4):\n",
    "        setup(0, 0)\n",
    "        penup()\n",
    "        right(90)\n",
    "        forward((square_size + gap) * i)\n",
    "        left(90)\n",
    "        pendown()\n",
    "        for j in range(4):\n",
    "            square(square_size)\n",
    "            penup()\n",
    "            forward(square_size + gap)\n",
    "            pendown()\n",
    "\n",
    "\n",
    "#CALL DRAW GRID FUNCTION HERE\n",
    "reset()\n",
    "speed(0)\n",
    "draw_grid(20, 10)"
   ]
  },
  {
   "cell_type": "code",
   "execution_count": 75,
   "id": "29b8867e",
   "metadata": {},
   "outputs": [],
   "source": [
    "def cone():\n",
    "    \"Draws an ice cream cone\"\n",
    "    # YOUR CODE HERE\n",
    "    color(\"orange\")\n",
    "    begin_fill()\n",
    "    forward(50)\n",
    "    right(110)\n",
    "    forward(146)\n",
    "    right(140)\n",
    "    forward(146)\n",
    "    right(110)\n",
    "    forward(50)\n",
    "    end_fill()\n",
    "\n",
    "\n",
    "def icecream_scoop(flavor):\n",
    "    '''Draws a scoop of ice cream.\n",
    "    Takes an ice cream flavor \n",
    "    and number of scoops as paramters'''\n",
    "    # YOUR CODE HERE \n",
    "    color(\"white\")\n",
    "    fillcolor(flavor)\n",
    "    begin_fill()\n",
    "    circle(65)\n",
    "    end_fill()\n",
    "    \n",
    "def draw_scoops(num_scoops):\n",
    "    '''Draws multiple scoops of icecream.\n",
    "    Takes the number of scoops as a\n",
    "    parameter.\n",
    "    '''\n",
    "    for i in range(num_scoops):\n",
    "        icecream_scoop(\"pink\")\n",
    "        penup()\n",
    "        left(90)\n",
    "        forward(55)\n",
    "        right(90)\n",
    "        pendown()\n",
    "    penup()\n",
    "    right(90)\n",
    "    forward(55*num_scoops)\n",
    "    left(90)\n",
    "    pendown()\n",
    "\n",
    "    \n",
    "#YOUR draw_icecream() FUNCTION GOES HERE\n",
    "def draw_icecream(num_scoops):\n",
    "    '''Draws an ice cream cone\n",
    "    with the ice cream scoops on top.\n",
    "    Use the function setup() to set the placement of the drawing.'''\n",
    "    cone()\n",
    "    right(90)\n",
    "    forward(20)\n",
    "    left(90)\n",
    "    draw_scoops(num_scoops)\n",
    "\n",
    "reset()\n",
    "speed(0)\n",
    "showturtle() #Shows the turtle as it draws\n",
    "\n",
    "#CALL DRAW ICE CREAM FUNCTION HERE\n",
    "draw_icecream(4)\n",
    "\n",
    "\n",
    "hideturtle() #Hides the turtle pen"
   ]
  },
  {
   "cell_type": "markdown",
   "id": "b7e249e5",
   "metadata": {},
   "source": [
    "## Types"
   ]
  },
  {
   "cell_type": "code",
   "execution_count": 76,
   "id": "6693aa87",
   "metadata": {},
   "outputs": [
    {
     "name": "stdout",
     "output_type": "stream",
     "text": [
      "Roses are red\n",
      "Violets are blue\n",
      "Embassys are magenta\n",
      "And so are you.\n"
     ]
    }
   ],
   "source": [
    "from poetry import love_poem\n",
    "\n",
    "print(love_poem())"
   ]
  },
  {
   "cell_type": "code",
   "execution_count": 77,
   "id": "338db5fb",
   "metadata": {},
   "outputs": [
    {
     "name": "stdout",
     "output_type": "stream",
     "text": [
      "an evil squirrel\n"
     ]
    }
   ],
   "source": [
    "from grammar import make_indefinite, NounPhrase\n",
    "\n",
    "print(make_indefinite(NounPhrase(\"evil squirrel\")))"
   ]
  },
  {
   "cell_type": "code",
   "execution_count": 78,
   "id": "2ef10b31",
   "metadata": {},
   "outputs": [
    {
     "name": "stdout",
     "output_type": "stream",
     "text": [
      "a squirrel\n"
     ]
    }
   ],
   "source": [
    "from grammar import make_indefinite, NounPhrase\n",
    "\n",
    "print(make_indefinite(NounPhrase(\"squirrel\")))"
   ]
  },
  {
   "cell_type": "code",
   "execution_count": 80,
   "id": "d8c1d0c8",
   "metadata": {},
   "outputs": [
    {
     "name": "stdout",
     "output_type": "stream",
     "text": [
      "I used to have a decorative stalk\n",
      "Until i swapped it for a civil chalk.\n"
     ]
    }
   ],
   "source": [
    "from poetry import couplet\n",
    "\n",
    "print(couplet())"
   ]
  },
  {
   "cell_type": "code",
   "execution_count": 81,
   "id": "6c1a4ade",
   "metadata": {},
   "outputs": [
    {
     "name": "stdout",
     "output_type": "stream",
     "text": [
      "There once was a person named jan\n",
      "Who owned an optical van.\n",
      "She sorely pocketed it,\n",
      "And then she docketed it,\n",
      "Until it turned into a tan.\n"
     ]
    }
   ],
   "source": [
    "from poetry import  limerick\n",
    "name = \"Jan\"\n",
    "subject_pronoun = \"she\"\n",
    "print(limerick(name, subject_pronoun))"
   ]
  },
  {
   "cell_type": "code",
   "execution_count": 83,
   "id": "d4ee780e",
   "metadata": {},
   "outputs": [
    {
     "name": "stdout",
     "output_type": "stream",
     "text": [
      "Upbeats nauseate\n",
      "Syrups industrialize\n",
      "Ranks abbreviate\n"
     ]
    }
   ],
   "source": [
    "from poetry import haiku\n",
    "print(haiku())"
   ]
  },
  {
   "cell_type": "markdown",
   "id": "ac1d5cd1",
   "metadata": {},
   "source": [
    "## Animation (Modules and Context Managers"
   ]
  },
  {
   "cell_type": "code",
   "execution_count": 84,
   "id": "dc1e1db8",
   "metadata": {},
   "outputs": [
    {
     "data": {
      "text/plain": [
       "<module 'turtle' from '/usr/local/Cellar/python@3.9/3.9.1_3/Frameworks/Python.framework/Versions/3.9/lib/python3.9/turtle.py'>"
      ]
     },
     "execution_count": 84,
     "metadata": {},
     "output_type": "execute_result"
    }
   ],
   "source": [
    "import turtle\n",
    "turtle"
   ]
  },
  {
   "cell_type": "code",
   "execution_count": 85,
   "id": "b0891c33",
   "metadata": {},
   "outputs": [
    {
     "data": {
      "text/plain": [
       "<function turtle.forward(distance)>"
      ]
     },
     "execution_count": 85,
     "metadata": {},
     "output_type": "execute_result"
    }
   ],
   "source": [
    "turtle.forward"
   ]
  },
  {
   "cell_type": "code",
   "execution_count": 86,
   "id": "7666b63d",
   "metadata": {},
   "outputs": [],
   "source": [
    "from turtle import forward\n",
    "forward(100)"
   ]
  },
  {
   "cell_type": "code",
   "execution_count": 49,
   "id": "3c763bf9",
   "metadata": {},
   "outputs": [],
   "source": [
    "from helpers import fly, restore_state_when_finished\n",
    "from turtle import forward, left, right, reset"
   ]
  },
  {
   "cell_type": "code",
   "execution_count": 87,
   "id": "e1211dc5",
   "metadata": {},
   "outputs": [],
   "source": [
    "reset()\n",
    "\n",
    "speed(10)\n",
    "fly(-200, 200)\n",
    "\n",
    "with restore_state_when_finished():\n",
    "    for i in range(10):\n",
    "        forward(10)\n",
    "        left(90)\n",
    "        forward(10)\n",
    "        right(90)\n",
    "        \n",
    "with restore_state_when_finished():\n",
    "    for i in range(10):\n",
    "        forward(10)\n",
    "        right(90)\n",
    "        forward(10)\n",
    "        left(90)"
   ]
  },
  {
   "cell_type": "code",
   "execution_count": 88,
   "id": "0e19164f",
   "metadata": {},
   "outputs": [],
   "source": [
    "from helpers import no_delay\n",
    "from turtle import forward, backward, right, reset"
   ]
  },
  {
   "cell_type": "code",
   "execution_count": 89,
   "id": "92e15b3f",
   "metadata": {},
   "outputs": [],
   "source": [
    "reset()\n",
    "\n",
    "with no_delay():\n",
    "    for i in range(int(360/2)):\n",
    "        forward(100)\n",
    "        backward(100)\n",
    "        right(2)"
   ]
  },
  {
   "cell_type": "code",
   "execution_count": 90,
   "id": "696d8985",
   "metadata": {},
   "outputs": [],
   "source": [
    "from turtle import Screen, clear, forward, penup, pendown\n",
    "from parts import draw_triangle\n",
    "from helpers import setup, no_delay\n",
    "import time"
   ]
  },
  {
   "cell_type": "code",
   "execution_count": 91,
   "id": "1eba097f",
   "metadata": {},
   "outputs": [],
   "source": [
    "def draw_animation_2(num_frames, sidelen, color, sleeptime, screen):\n",
    "    for i in range(num_frames):\n",
    "        if i < num_frames // 2:\n",
    "            penup()\n",
    "            forward(2)\n",
    "            pendown()\n",
    "        if i > num_frames // 2:\n",
    "            penup()\n",
    "            forward(-2)\n",
    "            pendown()\n",
    "        draw_triangle(sidelen, color)\n",
    "        screen.update()\n",
    "        time.sleep(sleeptime)\n",
    "        clear()"
   ]
  },
  {
   "cell_type": "code",
   "execution_count": 92,
   "id": "fbb7b127",
   "metadata": {},
   "outputs": [],
   "source": [
    "COLOR = \"light coral\"\n",
    "SIDELEN = 70 #the side length of the triangle\n",
    "SLEEPTIME = 0.05 #the time in between each frame\n",
    "NUMFRAMES = 100 #the number of frames in the animation\n",
    "NUMREPEATS = 4 #the number of times the animation repeats\n",
    "SCREENWIDTH = 800 #the height and width of the screen\n",
    "SCREENHEIGHT = 800 #the height and width of the screen\n",
    "START_X = 0 # the starting xcoordinate of the drawing\n",
    "START_Y = 0 # the starting ycoordinate of the drawing\n",
    "\n",
    "screen = Screen()\n",
    "screen.setup(SCREENWIDTH, SCREENHEIGHT)\n",
    "for i in range(NUMREPEATS):\n",
    "    setup(START_X, START_Y)\n",
    "    with no_delay():\n",
    "        draw_animation_2(NUMFRAMES, SIDELEN, COLOR, SLEEPTIME, screen)\n",
    "    "
   ]
  },
  {
   "cell_type": "code",
   "execution_count": null,
   "id": "b7d18344",
   "metadata": {},
   "outputs": [],
   "source": []
  }
 ],
 "metadata": {
  "kernelspec": {
   "display_name": "Python 3 (ipykernel)",
   "language": "python",
   "name": "python3"
  },
  "language_info": {
   "codemirror_mode": {
    "name": "ipython",
    "version": 3
   },
   "file_extension": ".py",
   "mimetype": "text/x-python",
   "name": "python",
   "nbconvert_exporter": "python",
   "pygments_lexer": "ipython3",
   "version": "3.9.1"
  },
  "toc": {
   "base_numbering": 1,
   "nav_menu": {},
   "number_sections": true,
   "sideBar": true,
   "skip_h1_title": false,
   "title_cell": "Table of Contents",
   "title_sidebar": "Contents",
   "toc_cell": false,
   "toc_position": {},
   "toc_section_display": true,
   "toc_window_display": false
  },
  "varInspector": {
   "cols": {
    "lenName": 16,
    "lenType": 16,
    "lenVar": 40
   },
   "kernels_config": {
    "python": {
     "delete_cmd_postfix": "",
     "delete_cmd_prefix": "del ",
     "library": "var_list.py",
     "varRefreshCmd": "print(var_dic_list())"
    },
    "r": {
     "delete_cmd_postfix": ") ",
     "delete_cmd_prefix": "rm(",
     "library": "var_list.r",
     "varRefreshCmd": "cat(var_dic_list()) "
    }
   },
   "types_to_exclude": [
    "module",
    "function",
    "builtin_function_or_method",
    "instance",
    "_Feature"
   ],
   "window_display": false
  }
 },
 "nbformat": 4,
 "nbformat_minor": 5
}
